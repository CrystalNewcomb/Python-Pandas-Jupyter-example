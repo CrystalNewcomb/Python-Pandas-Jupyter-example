{
 "cells": [
  {
   "cell_type": "code",
   "execution_count": 1,
   "id": "6ed42787",
   "metadata": {},
   "outputs": [],
   "source": [
    "#import dependencies\n",
    "import pandas as pd"
   ]
  },
  {
   "cell_type": "code",
   "execution_count": 2,
   "id": "8cafb442",
   "metadata": {},
   "outputs": [],
   "source": [
    "#import and read data\n",
    "df = pd.read_csv('all-weeks-countries.csv')"
   ]
  },
  {
   "cell_type": "code",
   "execution_count": 4,
   "id": "fee54ee7",
   "metadata": {},
   "outputs": [
    {
     "data": {
      "text/html": [
       "<div>\n",
       "<style scoped>\n",
       "    .dataframe tbody tr th:only-of-type {\n",
       "        vertical-align: middle;\n",
       "    }\n",
       "\n",
       "    .dataframe tbody tr th {\n",
       "        vertical-align: top;\n",
       "    }\n",
       "\n",
       "    .dataframe thead th {\n",
       "        text-align: right;\n",
       "    }\n",
       "</style>\n",
       "<table border=\"1\" class=\"dataframe\">\n",
       "  <thead>\n",
       "    <tr style=\"text-align: right;\">\n",
       "      <th></th>\n",
       "      <th>country_name</th>\n",
       "      <th>country_iso2</th>\n",
       "      <th>week</th>\n",
       "      <th>category</th>\n",
       "      <th>weekly_rank</th>\n",
       "      <th>show_title</th>\n",
       "      <th>season_title</th>\n",
       "      <th>cumulative_weeks_in_top_10</th>\n",
       "    </tr>\n",
       "  </thead>\n",
       "  <tbody>\n",
       "    <tr>\n",
       "      <th>0</th>\n",
       "      <td>Argentina</td>\n",
       "      <td>AR</td>\n",
       "      <td>2021-12-05</td>\n",
       "      <td>Films</td>\n",
       "      <td>1</td>\n",
       "      <td>Spoiled Brats</td>\n",
       "      <td>NaN</td>\n",
       "      <td>2</td>\n",
       "    </tr>\n",
       "    <tr>\n",
       "      <th>1</th>\n",
       "      <td>Argentina</td>\n",
       "      <td>AR</td>\n",
       "      <td>2021-12-05</td>\n",
       "      <td>Films</td>\n",
       "      <td>2</td>\n",
       "      <td>The Power of the Dog</td>\n",
       "      <td>NaN</td>\n",
       "      <td>1</td>\n",
       "    </tr>\n",
       "    <tr>\n",
       "      <th>2</th>\n",
       "      <td>Argentina</td>\n",
       "      <td>AR</td>\n",
       "      <td>2021-12-05</td>\n",
       "      <td>Films</td>\n",
       "      <td>3</td>\n",
       "      <td>Bruised</td>\n",
       "      <td>NaN</td>\n",
       "      <td>2</td>\n",
       "    </tr>\n",
       "    <tr>\n",
       "      <th>3</th>\n",
       "      <td>Argentina</td>\n",
       "      <td>AR</td>\n",
       "      <td>2021-12-05</td>\n",
       "      <td>Films</td>\n",
       "      <td>4</td>\n",
       "      <td>The Whole Truth</td>\n",
       "      <td>NaN</td>\n",
       "      <td>1</td>\n",
       "    </tr>\n",
       "    <tr>\n",
       "      <th>4</th>\n",
       "      <td>Argentina</td>\n",
       "      <td>AR</td>\n",
       "      <td>2021-12-05</td>\n",
       "      <td>Films</td>\n",
       "      <td>5</td>\n",
       "      <td>More the Merrier</td>\n",
       "      <td>NaN</td>\n",
       "      <td>1</td>\n",
       "    </tr>\n",
       "  </tbody>\n",
       "</table>\n",
       "</div>"
      ],
      "text/plain": [
       "  country_name country_iso2        week category  weekly_rank  \\\n",
       "0    Argentina           AR  2021-12-05    Films            1   \n",
       "1    Argentina           AR  2021-12-05    Films            2   \n",
       "2    Argentina           AR  2021-12-05    Films            3   \n",
       "3    Argentina           AR  2021-12-05    Films            4   \n",
       "4    Argentina           AR  2021-12-05    Films            5   \n",
       "\n",
       "             show_title season_title  cumulative_weeks_in_top_10  \n",
       "0         Spoiled Brats          NaN                           2  \n",
       "1  The Power of the Dog          NaN                           1  \n",
       "2               Bruised          NaN                           2  \n",
       "3       The Whole Truth          NaN                           1  \n",
       "4      More the Merrier          NaN                           1  "
      ]
     },
     "execution_count": 4,
     "metadata": {},
     "output_type": "execute_result"
    }
   ],
   "source": [
    "#get the first 5 records\n",
    "df.head(5)"
   ]
  },
  {
   "cell_type": "code",
   "execution_count": 5,
   "id": "a5120e5a",
   "metadata": {},
   "outputs": [
    {
     "data": {
      "text/plain": [
       "(43240, 8)"
      ]
     },
     "execution_count": 5,
     "metadata": {},
     "output_type": "execute_result"
    }
   ],
   "source": [
    "#get shape of db\n",
    "df.shape"
   ]
  },
  {
   "cell_type": "code",
   "execution_count": 6,
   "id": "4437067b",
   "metadata": {},
   "outputs": [
    {
     "data": {
      "text/plain": [
       "Index(['country_name', 'country_iso2', 'week', 'category', 'weekly_rank',\n",
       "       'show_title', 'season_title', 'cumulative_weeks_in_top_10'],\n",
       "      dtype='object')"
      ]
     },
     "execution_count": 6,
     "metadata": {},
     "output_type": "execute_result"
    }
   ],
   "source": [
    "#get column names\n",
    "df.columns"
   ]
  },
  {
   "cell_type": "code",
   "execution_count": 10,
   "id": "269eaab6",
   "metadata": {},
   "outputs": [
    {
     "name": "stdout",
     "output_type": "stream",
     "text": [
      "      country_name country_iso2        week category  weekly_rank  \\\n",
      "42320    Venezuela           VE  2021-12-05    Films            1   \n",
      "42342    Venezuela           VE  2021-11-28    Films            3   \n",
      "\n",
      "          show_title season_title  cumulative_weeks_in_top_10  \n",
      "42320  Spoiled Brats          NaN                           2  \n",
      "42342  Spoiled Brats          NaN                           1  \n"
     ]
    }
   ],
   "source": [
    "#grab specific data and make a new df with only those records\n",
    "new_df = df.loc[(df['category'] == 'Films') & (df['show_title'] == 'Spoiled Brats') & (df['country_name'] == 'Venezuela')]\n",
    "print(new_df)\n"
   ]
  },
  {
   "cell_type": "code",
   "execution_count": 11,
   "id": "8ee05aa4",
   "metadata": {},
   "outputs": [],
   "source": [
    "new_df.to_csv(\"Films_Spoiled_Brats_Venezuela.csv\")"
   ]
  },
  {
   "cell_type": "code",
   "execution_count": null,
   "id": "d4b759a1",
   "metadata": {},
   "outputs": [],
   "source": []
  }
 ],
 "metadata": {
  "kernelspec": {
   "display_name": "Python 3 (ipykernel)",
   "language": "python",
   "name": "python3"
  },
  "language_info": {
   "codemirror_mode": {
    "name": "ipython",
    "version": 3
   },
   "file_extension": ".py",
   "mimetype": "text/x-python",
   "name": "python",
   "nbconvert_exporter": "python",
   "pygments_lexer": "ipython3",
   "version": "3.9.9"
  }
 },
 "nbformat": 4,
 "nbformat_minor": 5
}
